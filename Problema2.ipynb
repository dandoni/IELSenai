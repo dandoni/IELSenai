{
 "cells": [
  {
   "cell_type": "markdown",
   "metadata": {},
   "source": [
    "Vamos usar o pacote pnadc com documentação disponivel em https://pnadc.readthedocs.io/en/latest/ . Esse pacote permite acessar diretamente os dados da PNAD continua, ou pnadc. A partir da extração e filtro vamos analisar os dados do ultimo trimestre de 2024, coeltados de 01/10/2024 a 31/12/2024.\n",
    "\n",
    "Estou em duvida quanto a V403331 Tipo de rendimento/retirada  em benefícios que recebia/fazia nesse trabalho\n",
    "1\tPessoa recebendo somente em beneficios, exceto aprendizado\n",
    "2\tAprendiz ou estagiário recebendo em aprendizado e outros beneficios\n",
    "3\tAprendiz ou estagiário recebendo somente em aprendizado\n",
    "    Não aplicável\n",
    "\n",
    "Vou testar como está mas fica a ideia de acrescentar"
   ]
  },
  {
   "cell_type": "code",
   "execution_count": 9,
   "metadata": {},
   "outputs": [],
   "source": [
    "#pip install pynad\n",
    "#pip install pnadc\n",
    "\n",
    "import pnadc\n",
    "import pandas as pd\n",
    "import numpy as np"
   ]
  },
  {
   "cell_type": "code",
   "execution_count": 4,
   "metadata": {},
   "outputs": [],
   "source": [
    "\n",
    "import pnadc\n",
    "# Variaveis\n",
    "pesos_replicacao = ['V1028' + str(i).zfill(3) for i in range(1,201)]\n",
    "\n",
    "# Variáveis de interesse + pesos\n",
    "variaveis = [\n",
    "    \"Ano\",\n",
    "    \"Trimestre\",\n",
    "    \"UF\",\n",
    "    \"V1028\",    # Peso\n",
    "    \"V2009\",   # Idade\n",
    "    \"V3003A\",   # Escolaridade\n",
    "    \"VD4007\",   # Posição de ocupação #1 empregado\n",
    "    \"VD4009\",    # Posição na ocupação\n",
    "    \"VD4013\"    # Horas trabalhadas\n",
    "    #\"V403331\"   # Tipo de rendimento/beneficios\n",
    "]  + pesos_replicacao                            \n"
   ]
  },
  {
   "cell_type": "code",
   "execution_count": null,
   "metadata": {},
   "outputs": [],
   "source": [
    "# Definir caminho para o arquivo otimizado\n",
    "caminho_arquivo = 'pnad_filtrada.parquet'\n",
    "\n",
    "# Verificar se o arquivo otimizado já existe\n",
    "if os.path.exists(caminho_arquivo):\n",
    "    print(\"🔄 Lendo dados do arquivo otimizado...\")\n",
    "    dados = pd.read_parquet(caminho_arquivo)\n",
    "else:\n",
    "    print(\"⬇️ Baixando dados da PNAD e salvando em formato otimizado...\")\n",
    "    # Importar dados online\n",
    "    dados = pnadc.get(quarter=4, year=2024, keep_columns=variaveis)\n",
    "\n",
    "    # Salvar em formato otimizado (Parquet)\n",
    "    dados.to_parquet(caminho_arquivo)\n",
    "    print(\"✅ Dados salvos como 'pnad_filtrada.parquet'\")\n"
   ]
  },
  {
   "cell_type": "code",
   "execution_count": 5,
   "metadata": {},
   "outputs": [
    {
     "name": "stdout",
     "output_type": "stream",
     "text": [
      "Downloading Chaves_PNADC.pdf this can take some time.\n",
      "Chaves_PNADC.pdf download is complete!\n",
      "Downloading Definicao_variaveis_derivadas_PNADC_20200211.pdf this can take some time.\n",
      "Definicao_variaveis_derivadas_PNADC_20200211.pdf download is complete!\n",
      "Downloading Deflatores.zip this can take some time.\n",
      "Deflatores.zip download is complete!\n",
      "Unziping Deflatores.zip\n",
      "Unzip complete\n",
      "Downloading Dicionario_e_input_20221031.zip this can take some time.\n",
      "Dicionario_e_input_20221031.zip download is complete!\n",
      "Unziping Dicionario_e_input_20221031.zip\n",
      "Unzip complete\n",
      "Downloading Estrutura_Atividade_CNAE_Domiciliar_2_0.xls this can take some time.\n",
      "Estrutura_Atividade_CNAE_Domiciliar_2_0.xls download is complete!\n",
      "Downloading Estrutura_Ocupacao_COD.xls this can take some time.\n",
      "Estrutura_Ocupacao_COD.xls download is complete!\n",
      "Downloading Grupamentos_ocupacionais_atividades_PNADC.pdf this can take some time.\n",
      "Grupamentos_ocupacionais_atividades_PNADC.pdf download is complete!\n",
      "Downloading PNADcIBGE_Deflator_Trimestral.pdf this can take some time.\n",
      "PNADcIBGE_Deflator_Trimestral.pdf download is complete!\n",
      "Downloading Variaveis_PNADC_Trimestral.xls this can take some time.\n",
      "Variaveis_PNADC_Trimestral.xls download is complete!\n",
      "Downloading PNADC_042024.zip this can take some time.\n",
      "PNADC_042024.zip download is complete!\n",
      "Unziping PNADC_042024.zip\n",
      "Unzip complete\n",
      "Building PNADC_042024.txt\n",
      "Multiprocessing chunks\n"
     ]
    },
    {
     "name": "stderr",
     "output_type": "stream",
     "text": [
      "100%|██████████| 24/24 [02:52<00:00,  7.17s/it]\n"
     ]
    },
    {
     "name": "stdout",
     "output_type": "stream",
     "text": [
      "Done!\n"
     ]
    }
   ],
   "source": [
    "# Importar dados online\n",
    "dados = pnadc.get(quarter=4, year=2024, keep_columns=variaveis)\n",
    "\n",
    "caminho_arquivo = 'pnad_filtrada.parquet'\n",
    "dados.to_parquet(caminho_arquivo)"
   ]
  },
  {
   "cell_type": "markdown",
   "metadata": {},
   "source": [
    "TENTAR COM BD"
   ]
  },
  {
   "cell_type": "code",
   "execution_count": null,
   "metadata": {},
   "outputs": [
    {
     "name": "stdout",
     "output_type": "stream",
     "text": [
      "Estimativa do número de estagiários: 405,581\n",
      "Estimativa do número de estagiários: 405,581\n",
      "Erro padrão: 36,601\n",
      "Intervalo de Confiança (95%): [333,843, 477,318]\n"
     ]
    }
   ],
   "source": [
    "# Filtrar faixa etária de 16 a 25 anos\n",
    "dados_filtrados = dados[(dados['V2009'] >= 16) & (dados['V2009'] <= 25)]\n",
    "\n",
    "# Filtrar escolaridade (Ensino Médio completo ou Superior incompleto)\n",
    "escolaridade_codes = [ 6,7,8] # Ok!\n",
    "dados_filtrados = dados_filtrados[dados_filtrados['V3003A'].isin(escolaridade_codes)]\n",
    "\n",
    "# Filtrar posição na ocupação (Empregado)\n",
    "ocupacao_codes = [1]\n",
    "dados_filtrados = dados_filtrados[dados_filtrados['VD4007'].isin(ocupacao_codes)]\n",
    "\n",
    "# Filtrar tipo de ocupação  (Empregado setor publico ou privado)\n",
    "tipo_ocupacao_codes = [1,3]\n",
    "dados_filtrados = dados_filtrados[dados_filtrados['VD4009'].isin(tipo_ocupacao_codes)]\n",
    "\n",
    "# Filtrar horas trabalhadas habitualmente   (Até 39 horas)\n",
    "hora_codes = [1,2]\n",
    "dados_filtrados = dados_filtrados[dados_filtrados['VD4013'].isin(hora_codes)]\n",
    "\n",
    "# Estimativa pontual usando peso básico\n",
    "total_estagiarios = dados_filtrados['V1028'].sum()\n",
    "print(f\"Estimativa do número de estagiários: {total_estagiarios:,.0f}\")\n",
    "\n",
    "# Estimativas com pesos de replicação\n",
    "replicates = [dados_filtrados[peso].sum() for peso in pesos_replicacao]\n",
    "\n",
    "# Calcular variância seguindo metodologia do IBGE (Fay’s method com k=0.5 geralmente)\n",
    "variancia = np.mean([(rep - total_estagiarios)**2 for rep in replicates]) * 4\n",
    "\n",
    "# Erro padrão e intervalo de confiança\n",
    "erro_padrao = np.sqrt(variancia)\n",
    "ic_inferior = total_estagiarios - 1.96 * erro_padrao\n",
    "ic_superior = total_estagiarios + 1.96 * erro_padrao\n",
    "\n",
    "# Exibir resultados\n",
    "print(f\"Estimativa do número de estagiários: {total_estagiarios:,.0f}\")\n",
    "print(f\"Erro padrão: {erro_padrao:,.0f}\")\n",
    "print(f\"Intervalo de Confiança (95%): [{ic_inferior:,.0f}, {ic_superior:,.0f}]\")"
   ]
  },
  {
   "cell_type": "markdown",
   "metadata": {},
   "source": [
    "Para PNAD cont vamos usar Samplics com estimação por replicação, usando metodo de bootstrap que e o da pnad continua o parametro nosso vai ser ? nao sei preciso pensar, ele calcula media da renda, eu quero contagem\n",
    "\n",
    "\n",
    "CONFERIR CODIGOS NO DICIONARIO PNADC"
   ]
  }
 ],
 "metadata": {
  "kernelspec": {
   "display_name": "Python 3",
   "language": "python",
   "name": "python3"
  },
  "language_info": {
   "codemirror_mode": {
    "name": "ipython",
    "version": 3
   },
   "file_extension": ".py",
   "mimetype": "text/x-python",
   "name": "python",
   "nbconvert_exporter": "python",
   "pygments_lexer": "ipython3",
   "version": "3.13.1"
  }
 },
 "nbformat": 4,
 "nbformat_minor": 2
}
